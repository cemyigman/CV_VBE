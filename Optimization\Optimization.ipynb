{
  "nbformat": 4,
  "nbformat_minor": 0,
  "metadata": {
    "colab": {
      "provenance": [],
      "authorship_tag": "ABX9TyMvAnOpKCkfHtT4thdwrYjp",
      "include_colab_link": true
    },
    "kernelspec": {
      "name": "python3",
      "display_name": "Python 3"
    },
    "language_info": {
      "name": "python"
    }
  },
  "cells": [
    {
      "cell_type": "markdown",
      "metadata": {
        "id": "view-in-github",
        "colab_type": "text"
      },
      "source": [
        "<a href=\"https://colab.research.google.com/github/cemyigman/CV_VBE/blob/main/Optimization%5COptimization.ipynb\" target=\"_parent\"><img src=\"https://colab.research.google.com/assets/colab-badge.svg\" alt=\"Open In Colab\"/></a>"
      ]
    },
    {
      "cell_type": "markdown",
      "source": [
        "#**Basic Optimization Solver Using Python**"
      ],
      "metadata": {
        "id": "oQuAjZAtAMel"
      }
    },
    {
      "cell_type": "markdown",
      "source": [
        "<table >\n",
        "    <tr align=\"right\">\n",
        "        <td>max</td>\n",
        "        <td>z =</td>\n",
        "        <td>3x</td>\n",
        "        <td>+</td>\n",
        "        <td>2y</td>\n",
        "        <td></td>\n",
        "        <td></td>\n",
        "    </tr>    \n",
        "    <tr align=\"right\">\n",
        "        <td>s.t.</td>\n",
        "        <td></td>\n",
        "        <td>2x</td>\n",
        "        <td>+</td>\n",
        "        <td>y</td>\n",
        "        <td>&leq;</td>\n",
        "        <td>100</td>\n",
        "    </tr>\n",
        "    <tr align=\"right\">\n",
        "        <td></td>\n",
        "        <td></td>\n",
        "        <td>x</td>\n",
        "        <td>+</td>\n",
        "        <td>y</td>\n",
        "        <td> &leq; </td>\n",
        "        <td>80</td>\n",
        "    </tr>\n",
        "    <tr align=\"right\">\n",
        "        <td></td>\n",
        "        <td></td>\n",
        "        <td>x</td>\n",
        "        <td></td>\n",
        "        <td></td>\n",
        "        <td>&leq;</td>\n",
        "        <td>40</td>\n",
        "    </tr>\n",
        "    <tr align=\"right\">\n",
        "        <td></td>\n",
        "        <td></td>\n",
        "        <td>x</td>\n",
        "        <td></td>\n",
        "        <td></td>\n",
        "        <td>&geq;</td>\n",
        "        <td>0</td>\n",
        "    </tr>\n",
        "    <tr align=\"right\">\n",
        "        <td></td>\n",
        "        <td></td>\n",
        "        <td></td>\n",
        "        <td></td>\n",
        "        <td>y</td>\n",
        "        <td>&geq;</td>\n",
        "        <td>0</td>\n",
        "    </tr>  \n",
        "</table>\n"
      ],
      "metadata": {
        "id": "6IrhsQHXCNBU"
      }
    },
    {
      "cell_type": "markdown",
      "source": [
        "**Installing ortools package for operation research function in Python**\\\n",
        "https://developers.google.com/optimization/install/python"
      ],
      "metadata": {
        "id": "9zyMuabSihXN"
      }
    },
    {
      "cell_type": "code",
      "source": [
        "!pip install ortools"
      ],
      "metadata": {
        "id": "PFHaAXiV-Y2s"
      },
      "execution_count": null,
      "outputs": []
    },
    {
      "cell_type": "code",
      "execution_count": 3,
      "metadata": {
        "id": "msVEZU5b-Ati"
      },
      "outputs": [],
      "source": [
        "from ortools.linear_solver import pywraplp\n",
        "from ortools.init import pywrapinit\n",
        "import numpy as np\n",
        "import matplotlib.pyplot as plt"
      ]
    },
    {
      "cell_type": "code",
      "source": [
        "solver = pywraplp.Solver.CreateSolver('GLOP')"
      ],
      "metadata": {
        "id": "hEOt8mGC-NMj"
      },
      "execution_count": 5,
      "outputs": []
    },
    {
      "cell_type": "markdown",
      "source": [
        "https://google.github.io/or-tools/python/ortools/linear_solver/pywraplp.html \\\n",
        "CLP_LINEAR_PROGRAMMING or CLP \\\n",
        "CBC_MIXED_INTEGER_PROGRAMMING or CBC \\\n",
        "GLOP_LINEAR_PROGRAMMING or GLOP \\\n",
        "BOP_INTEGER_PROGRAMMING or BOP \\\n",
        "SAT_INTEGER_PROGRAMMING or SAT or CP_SAT \\\n",
        "SCIP_MIXED_INTEGER_PROGRAMMING or SCIP \\\n",
        "GUROBI_LINEAR_PROGRAMMING or GUROBI_LP \\\n",
        "GUROBI_MIXED_INTEGER_PROGRAMMING or GUROBI or GUROBI_MIP \\\n",
        "CPLEX_LINEAR_PROGRAMMING or CPLEX_LP \\\n",
        "CPLEX_MIXED_INTEGER_PROGRAMMING or CPLEX or CPLEX_MIP \\\n",
        "XPRESS_LINEAR_PROGRAMMING or XPRESS_LP \\\n",
        "XPRESS_MIXED_INTEGER_PROGRAMMING or XPRESS or XPRESS_MIP \\\n",
        "GLPK_LINEAR_PROGRAMMING or GLPK_LP \\\n",
        "GLPK_MIXED_INTEGER_PROGRAMMING or GLPK or GLPK_MIP \\"
      ],
      "metadata": {
        "id": "_FXxlUi5qIRB"
      }
    },
    {
      "cell_type": "code",
      "source": [
        "x = solver.NumVar(0, solver.infinity(), 'x')\n",
        "y = solver.NumVar(0, solver.infinity(), 'y')"
      ],
      "metadata": {
        "id": "1EVLuuxT-zE-"
      },
      "execution_count": 6,
      "outputs": []
    },
    {
      "cell_type": "code",
      "source": [
        "print('Number of Variables:', solver.NumVariables())"
      ],
      "metadata": {
        "id": "boh2i-AE-9TV"
      },
      "execution_count": null,
      "outputs": []
    },
    {
      "cell_type": "code",
      "source": [
        "c0 = solver.Add(2 * x + 1 * y <= 100, 'ConstraintName0')\n",
        "c1 = solver.Add(1 * x + 1 * y <= 80, 'ConstraintName1')\n",
        "c2 = solver.Add(1 * x <= 40, 'ConstraintName2')\n",
        "c3 = solver.Add(x >= 0, 'ConstraintName3')\n",
        "c4 = solver.Add(y >= 0, 'ConstraintName4')"
      ],
      "metadata": {
        "id": "rqGmN6jB_Fre"
      },
      "execution_count": 8,
      "outputs": []
    },
    {
      "cell_type": "code",
      "source": [
        "objective = solver.Objective()\n",
        "objective.SetCoefficient(x, 3)\n",
        "objective.SetCoefficient(y, 2)\n",
        "objective.SetMaximization()"
      ],
      "metadata": {
        "id": "M1NWi8Z__e5a"
      },
      "execution_count": 10,
      "outputs": []
    },
    {
      "cell_type": "code",
      "source": [
        "solver.Solve()\n",
        "print('Solution:')\n",
        "print('Objective Value: ', objective.Value())\n",
        "print('x = ', x.solution_value())\n",
        "print('y = ', y.solution_value())"
      ],
      "metadata": {
        "id": "FlZmZ4K1_uR6",
        "colab": {
          "base_uri": "https://localhost:8080/"
        },
        "outputId": "d0c44ca4-54a2-4d14-8afb-caeebf2bba81"
      },
      "execution_count": 11,
      "outputs": [
        {
          "output_type": "stream",
          "name": "stdout",
          "text": [
            "Solution:\n",
            "Objective Value:  180.0\n",
            "x =  19.999999999999986\n",
            "y =  60.00000000000003\n"
          ]
        }
      ]
    },
    {
      "cell_type": "markdown",
      "source": [
        "**Feasible Region**"
      ],
      "metadata": {
        "id": "2qQIuFnViVQ9"
      }
    },
    {
      "cell_type": "markdown",
      "source": [
        "The orientation of the image in the final rendering is controlled by the origin and extent keyword arguments (and attributes on the resulting AxesImage instance) and the data limits of the axes.\n",
        "\n",
        "The extent keyword arguments controls the bounding box in data coordinates that the image will fill specified as (left, right, bottom, top) in data coordinates, the origin keyword argument controls how the image fills that bounding box, and the orientation in the final rendered image is also affected by the axes limits."
      ],
      "metadata": {
        "id": "y3vGId77siId"
      }
    },
    {
      "cell_type": "code",
      "source": [
        "# plot the feasible region\n",
        "d = np.linspace(0,100,300)\n",
        "x,y = np.meshgrid(d,d)\n",
        "plt.imshow( ( (y<=100-2*x) & (y<=80-x) & (x<=40)).astype(int) , \n",
        "                extent=(x.min(),x.max(),y.min(),y.max()),origin=\"lower\", cmap=\"Greys\", alpha = 0.3);\n",
        "\n",
        "\n",
        "# plot the lines defining the constraints\n",
        "x = np.linspace(0, 100, 2000)\n",
        "\n",
        "# 2x + y <= 100\n",
        "y1 = 100-2*x\n",
        "# x + y <= 80\n",
        "y2 = 80-x\n",
        "# x <= 40\n",
        "y3 = plt.axvline(x=40, ymin=0.00, ymax=1, label=r'$x\\leq40$')\n",
        "\n",
        "# Plot the objective functions for different z values\n",
        "o1 = 30 - 3/2*x\n",
        "o2 = 60 - 3/2*x\n",
        "o3 = 90 - 3/2*x\n",
        "\n",
        "# Find optimal solution \n",
        "cnd1 = np.argwhere(np.diff(np.sign(y1- y2))).flatten()\n",
        "\n",
        "# Make plot\n",
        "plt.plot(x, y1, label=r'$2x+y\\leq100$')\n",
        "plt.plot(x, y2, label=r'$x+y\\leq80$')\n",
        "#plt.axvline(40, label=r'$x\\leq40$')\n",
        "plt.plot(x, o1, '--', linewidth=1, label=r'60 = 3x+2y', color='#e50000')\n",
        "plt.plot(x, o2, '--', linewidth=1, label=r'120 = 3x+2y', color='#e50000')\n",
        "plt.plot(x, o3, '--', linewidth=1, label=r'180 = 3x+2y', color='#e50000')\n",
        "plt.plot(x[cnd1], y1[cnd1], 'ro')\n",
        "plt.xlim(0,100)\n",
        "plt.ylim(0,100)\n",
        "plt.legend(bbox_to_anchor=(1.05, 1), loc=2, borderaxespad=0.)\n",
        "plt.xlabel('x')\n",
        "plt.ylabel('y')"
      ],
      "metadata": {
        "id": "M41DZB6RcF-V"
      },
      "execution_count": null,
      "outputs": []
    },
    {
      "cell_type": "markdown",
      "source": [
        "#**Linear Programming Using Pyomo Package**\n",
        "https://colab.research.google.com/github/jckantor/ND-Pyomo-Cookbook/blob/master/notebooks/01.02-Running-Pyomo-on-Google-Colab.ipynb#scrollTo=pJHU-Rpkglqq"
      ],
      "metadata": {
        "id": "YrJcuC2s02sz"
      }
    },
    {
      "cell_type": "code",
      "source": [
        "!pip install -q pyomo"
      ],
      "metadata": {
        "id": "IRtOy2VB1KzX"
      },
      "execution_count": null,
      "outputs": []
    },
    {
      "cell_type": "code",
      "source": [
        "!apt-get install -y -qq glpk-utils"
      ],
      "metadata": {
        "id": "AysArqjv2Ne9"
      },
      "execution_count": 74,
      "outputs": []
    },
    {
      "cell_type": "code",
      "source": [
        "from pyomo.environ import *\n"
      ],
      "metadata": {
        "id": "ctdVl8DV1F_a"
      },
      "execution_count": 60,
      "outputs": []
    },
    {
      "cell_type": "code",
      "source": [
        "# create a model\n",
        "model = ConcreteModel()\n",
        "\n",
        "# declare decision variables\n",
        "model.x = Var(domain=NonNegativeReals)\n",
        "model.y = Var(domain=NonNegativeReals)\n",
        "\n",
        "# declare objective\n",
        "model.profit = Objective(expr = 40*model.x + 30*model.y, sense=maximize)\n",
        "\n",
        "# declare constraints\n",
        "model.demand = Constraint(expr = model.x <= 40)\n",
        "model.laborA = Constraint(expr = model.x + model.y <= 80)\n",
        "model.laborB = Constraint(expr = 2*model.x + model.y <= 100)\n",
        "\n",
        "model.pprint()"
      ],
      "metadata": {
        "id": "2kEG2Q141WRC"
      },
      "execution_count": null,
      "outputs": []
    },
    {
      "cell_type": "code",
      "source": [
        "SolverFactory('glpk', executable='/usr/bin/glpsol').solve(model).write()"
      ],
      "metadata": {
        "id": "lF6V5T6C6JTm"
      },
      "execution_count": null,
      "outputs": []
    },
    {
      "cell_type": "code",
      "source": [
        "# display solution\n",
        "print('\\nProfit = ', model.profit())\n",
        "\n",
        "print('\\nDecision Variables')\n",
        "print('x = ', model.x())\n",
        "print('y = ', model.y())\n",
        "\n",
        "print('\\nConstraints')\n",
        "print('Demand  = ', model.demand())\n",
        "print('Labor A = ', model.laborA())\n",
        "print('Labor B = ', model.laborB())"
      ],
      "metadata": {
        "id": "VPdK_FS5Cqiy"
      },
      "execution_count": null,
      "outputs": []
    },
    {
      "cell_type": "code",
      "source": [
        "plt.figure(figsize = (10,8))\n",
        "plt.rcParams[\"font.size\"] = 15\n",
        "plt.axis([0, 50, 0, 50])\n",
        "\n",
        "#Hours constraint of machine A\n",
        "x = np.array([0,50]); y = 33 - 1.5*x\n",
        "plt.plot(x, y, \"red\", label = \"Machine A Hours Constraint\")\n",
        "plt.fill_between([0, 22], [33,0], color = \"red\", alpha = 0.05)\n",
        "\n",
        "#Hours constraint of machine B\n",
        "x = np.array([0, 50]); y = 45 - 2.25*x\n",
        "plt.plot(x, y, \"blue\", label = \"Machine B Hours Constraint\")\n",
        "plt.fill_between([0, 20], [45,0], color = \"blue\", alpha = 0.05)\n",
        "\n",
        "#Hours Constraint of Machine C\n",
        "x = np.array([0, 50]); y = 20 - 0.2*x\n",
        "plt.plot(x, y, \"green\", label = \"Machine C Hours Constraint\")\n",
        "plt.fill_between([0, 100], [20,0], color = \"green\", alpha = 0.05)\n",
        "\n",
        "#Indicate optimal product strategy\n",
        "plt.plot(10,18, marker = \"o\", color = \"red\", markersize= 10)\n",
        "plt.annotate(\"Optimal Product Strategy\", xy = (10,18), xytext = (20,30),\n",
        "            arrowprops = dict(shrink =.1, width = 1,headwidth = 5))\n",
        "\n",
        "plt.plot(16,9, marker = \"o\", color = \"pink\", markersize= 10)\n",
        "plt.plot(20, 0, marker = \"o\", color = \"b\",markersize = 10)\n",
        "plt.annotate(\"X only\", xy = (20,0.5), xytext= (25,10), arrowprops = dict(width = 1, headwidth = 5))\n",
        "\n",
        "plt.plot(0,33,marker = \"o\", color = \"blue\", markersize = 10)\n",
        "plt.annotate(\"Y only\", xy = (0,33), xytext = (5,40), arrowprops = dict(width = 1,headwidth = 5))\n",
        "\n",
        "#Indicate feasibility space\n",
        "plt.text(3, 6, \"Feasibility\\n   Space\", fontdict = {\"weight\":\"bold\"})\n",
        "plt.annotate(\"\", xy = (3,6), xytext = (0,0), arrowprops = dict( width = 0.5, headwidth = 5))\n",
        "\n",
        "plt.xlabel(\"Number of units of X produced\"); plt.ylabel(\"Number of units of Y produced\")\n",
        "plt.title(\"Optimization of production\")\n",
        "\n",
        "plt.legend()\n",
        "plt.show()"
      ],
      "metadata": {
        "colab": {
          "base_uri": "https://localhost:8080/",
          "height": 527
        },
        "id": "n5KvCeixDN5k",
        "outputId": "9e6aba0b-6da8-45d7-f04d-7f5f0f522ea4"
      },
      "execution_count": 101,
      "outputs": [
        {
          "output_type": "display_data",
          "data": {
            "text/plain": [
              "<Figure size 720x576 with 1 Axes>"
            ],
            "image/png": "[encoded data removed]"
          },
          "metadata": {
            "needs_background": "light"
          }
        }
      ]
    },
    {
      "cell_type": "markdown",
      "source": [
        "#**Integer Programming**"
      ],
      "metadata": {
        "id": "CYfBPis6PWpS"
      }
    },
    {
      "cell_type": "markdown",
      "source": [
        "<table >\n",
        "    <tr align=\"right\">\n",
        "        <td>max</td>\n",
        "        <td>z =</td>\n",
        "        <td>x</td>\n",
        "        <td>+</td>\n",
        "        <td>10y</td>\n",
        "        <td></td>\n",
        "        <td></td>\n",
        "    </tr>    \n",
        "    <tr align=\"right\">\n",
        "        <td>s.t.</td>\n",
        "        <td></td>\n",
        "        <td>x</td>\n",
        "        <td>+</td>\n",
        "        <td>7y</td>\n",
        "        <td>&leq;</td>\n",
        "        <td>17.5</td>\n",
        "    </tr>\n",
        "    <tr align=\"right\">\n",
        "        <td></td>\n",
        "        <td></td>\n",
        "        <td>x</td>\n",
        "        <td></td>\n",
        "        <td></td>\n",
        "        <td> &leq; </td>\n",
        "        <td>3.5</td>\n",
        "    </tr>\n",
        "    <tr align=\"right\">\n",
        "        <td></td>\n",
        "        <td></td>\n",
        "        <td>x</td>\n",
        "        <td></td>\n",
        "        <td></td>\n",
        "        <td>&geq;</td>\n",
        "        <td>o</td>\n",
        "    </tr>\n",
        "    <tr align=\"right\">\n",
        "        <td></td>\n",
        "        <td></td>\n",
        "        <td></td>\n",
        "        <td></td>\n",
        "        <td>y</td>\n",
        "        <td>&geq;</td>\n",
        "        <td>o</td>\n",
        "    </tr>\n",
        "    <tr align=\"right\">\n",
        "        <td></td>\n",
        "        <td></td>\n",
        "        <td>x</td>\n",
        "        <td></td>\n",
        "        <td></td>\n",
        "        <td></td>\n",
        "        <td>integer</td>\n",
        "    </tr>\n",
        "    <tr align=\"right\">\n",
        "        <td></td>\n",
        "        <td></td>\n",
        "        <td></td>\n",
        "        <td></td>\n",
        "        <td>y</td>\n",
        "        <td></td>\n",
        "        <td>integer</td>\n",
        "    </tr>      \n",
        "</table>"
      ],
      "metadata": {
        "id": "RI-vpCxbPklR"
      }
    },
    {
      "cell_type": "markdown",
      "source": [
        "**Knapsack Problem**\\\n",
        "\\\n",
        "Let’s pretend you’re going on a hike and you’re planning which objects you can take with you. Each object has a weight in pounds w_i and will give you u_i units of utility. You’d like to take all of them but your knapsack can only carry P pounds. Suppose you can either take an object or not. Your goal is to maximize your utility without exceeding the weight limit of your bag.\\\n",
        "A cvxpy problem has three parts:\\\n",
        "\\\n",
        "**Creating the variable:** We will represent our choice mathematically with a vector of 1’s and 0’s. A 1 will mean we’ve selected that object and a 0 will mean we’ve left it home. We construct a variable that can only take 1’s and 0’s with the cvxpy.Bool object.\\\n",
        "\\\n",
        "**Specifying the constraints:** We only need to make sure that the sum of our objects doesn’t exceed the weight limit P. We can compute the total weight of our objects with the dot product of the selection vector and the weights vector. Note that cvxpy overloads the * operator to perform matrix multiplication.\\\n",
        "\\\n",
        "**Formulating the objective function:** We want to find the selection that maximizes our utility. The utility of any given selection is the dot product of the selection vector and the utility vector.\n"
      ],
      "metadata": {
        "id": "mU_CbZVIGprE"
      }
    },
    {
      "cell_type": "code",
      "source": [
        "!pip install cvxpy"
      ],
      "metadata": {
        "id": "Qs0MxZu5IR4m"
      },
      "execution_count": null,
      "outputs": []
    },
    {
      "cell_type": "code",
      "source": [
        "import cvxpy\n",
        "import numpy as np"
      ],
      "metadata": {
        "id": "cvLncZ2cIMPM"
      },
      "execution_count": 104,
      "outputs": []
    },
    {
      "cell_type": "code",
      "source": [
        "# The data for the Knapsack problem\n",
        "# P is total weight capacity of sack\n",
        "# weights and utilities are also specified\n",
        "P = 165\n",
        "weights = np.array([23, 31, 29, 44, 53, 38, 63, 85, 89, 82])\n",
        "utilities = np.array([92, 57, 49, 68, 60, 43, 67, 84, 87, 72])\n",
        "\n",
        "# The variable we are solving for\n",
        "selection = cvxpy.Bool(len(weights))\n",
        "\n",
        "# The sum of the weights should be less than or equal to P\n",
        "weight_constraint = weights * selection <= P\n",
        "\n",
        "# Our total utility is the sum of the item utilities\n",
        "total_utility = utilities * selection\n",
        "\n",
        "# We tell cvxpy that we want to maximize total utility \n",
        "# subject to weight_constraint. All constraints in \n",
        "# cvxpy must be passed as a list\n",
        "knapsack_problem = cvxpy.Problem(cvxpy.Maximize(total_utility), [weight_constraint])\n",
        "\n",
        "# Solving the problem\n",
        "knapsack_problem.solve(solver=cvxpy.GLPK_MI)"
      ],
      "metadata": {
        "id": "6Xar7wYaIPm8"
      },
      "execution_count": null,
      "outputs": []
    }
  ]
}